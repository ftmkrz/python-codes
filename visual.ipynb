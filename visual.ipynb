{
 "cells": [
  {
   "cell_type": "code",
   "execution_count": 1,
   "metadata": {
    "tags": []
   },
   "outputs": [
    {
     "output_type": "stream",
     "name": "stdout",
     "text": "55 is not an Armstrong number\n"
    }
   ],
   "source": [
    "while True :\n",
    "    num = (input(\"Please enter a number: \"))\n",
    "    total=0\n",
    "    if (\",\" in num) or (\".\" in num) :\n",
    "        print(\"Please enter an integer number:\")\n",
    "    elif int(num) < 0:\n",
    "        print(\"Please enter positive number:\")\n",
    "    elif not num.isdigit():\n",
    "        print(\"Do not use any entries other than numeric values:\")\n",
    "    else:\n",
    "        for i in range(len(num)):\n",
    "            total += int(num[i]) ** len(num)\n",
    "        if total == int(num):\n",
    "            print(num, \"is an Armstrong number\")\n",
    "            break\n",
    "        else:\n",
    "            print( num, \"is not an Armstrong number\")\n",
    "            break"
   ]
  },
  {
   "cell_type": "code",
   "execution_count": null,
   "metadata": {},
   "outputs": [],
   "source": []
  }
 ],
 "metadata": {
  "language_info": {
   "codemirror_mode": {
    "name": "ipython",
    "version": 3
   },
   "file_extension": ".py",
   "mimetype": "text/x-python",
   "name": "python",
   "nbconvert_exporter": "python",
   "pygments_lexer": "ipython3",
   "version": "3.8.2-final"
  },
  "orig_nbformat": 2,
  "kernelspec": {
   "name": "python_defaultSpec_1600107944362",
   "display_name": "Python 3.8.2 64-bit"
  }
 },
 "nbformat": 4,
 "nbformat_minor": 2
}