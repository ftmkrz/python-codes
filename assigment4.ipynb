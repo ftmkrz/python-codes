{
 "cells": [
  {
   "cell_type": "code",
   "execution_count": 32,
   "metadata": {},
   "outputs": [
    {
     "output_type": "stream",
     "name": "stdout",
     "text": "Please enter again:\n5 is not a prime number\n"
    }
   ],
   "source": [
    "while True:\n",
    " num = int(input(\"Please enter a number:\"))\n",
    " if num <= 1:\n",
    "    print(\"Please enter again:\")\n",
    " elif num > 1:\n",
    "\n",
    "  for i in range(2, num):\n",
    "    if num % i == 0:\n",
    "        print(num, \"is a prime number\")\n",
    "        break\n",
    "  else:\n",
    "    print(num, \"is not a prime number\")\n",
    "    break"
   ]
  },
  {
   "cell_type": "code",
   "execution_count": null,
   "metadata": {},
   "outputs": [],
   "source": []
  }
 ],
 "metadata": {
  "language_info": {
   "codemirror_mode": {
    "name": "ipython",
    "version": 3
   },
   "file_extension": ".py",
   "mimetype": "text/x-python",
   "name": "python",
   "nbconvert_exporter": "python",
   "pygments_lexer": "ipython3",
   "version": "3.7.6-final"
  },
  "orig_nbformat": 2,
  "kernelspec": {
   "name": "python3",
   "display_name": "Python 3"
  }
 },
 "nbformat": 4,
 "nbformat_minor": 2
}