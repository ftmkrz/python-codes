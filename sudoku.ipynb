{
 "cells": [
  {
   "cell_type": "code",
   "execution_count": 1,
   "metadata": {},
   "outputs": [
    {
     "output_type": "stream",
     "name": "stdout",
     "text": "---------------------\n0 0 0 | 0 6 4 | 0 0 0\n7 0 0 | 0 0 0 | 3 9 0\n8 0 0 | 0 0 0 | 0 0 0\n---------------------\n0 0 0 | 5 0 2 | 0 6 0\n0 8 0 | 4 0 0 | 0 0 0\n3 5 0 | 6 0 0 | 0 7 0\n---------------------\n0 0 2 | 0 0 0 | 1 0 3\n0 0 1 | 0 5 9 | 0 0 0\n0 0 0 | 0 0 0 | 7 0 0\n---------------------\n"
    }
   ],
   "source": [
    "sudoku = [\n",
    "    [0, 0, 0, 0, 6, 4, 0, 0, 0],\n",
    "    [7, 0, 0, 0, 0, 0, 3, 9, 0],\n",
    "    [8, 0, 0, 0, 0, 0, 0, 0, 0],\n",
    "    [0, 0, 0, 5, 0, 2, 0, 6, 0],\n",
    "    [0, 8, 0, 4, 0, 0, 0, 0, 0],\n",
    "    [3, 5, 0, 6, 0, 0, 0, 7, 0],\n",
    "    [0, 0, 2, 0, 0, 0, 1, 0, 3],\n",
    "    [0, 0, 1, 0, 5, 9, 0, 0, 0],\n",
    "    [0, 0, 0, 0, 0, 0, 7, 0, 0]\n",
    "]\n",
    "for i in range(len(sudoku)):\n",
    "  if i % 3 == 0:\n",
    "    print(\"-\" * 21)\n",
    "    print(*sudoku[i][:3], \"|\", *sudoku[i][3:6], \"|\", *sudoku[i][6:])\n",
    "  else:\n",
    "    print(*sudoku[i][:3], \"|\", *sudoku[i][3:6], \"|\", *sudoku[i][6:])\n",
    "  \n",
    "print(\"-\" * 21)\n"
   ]
  },
  {
   "cell_type": "code",
   "execution_count": null,
   "metadata": {},
   "outputs": [],
   "source": []
  }
 ],
 "metadata": {
  "language_info": {
   "codemirror_mode": {
    "name": "ipython",
    "version": 3
   },
   "file_extension": ".py",
   "mimetype": "text/x-python",
   "name": "python",
   "nbconvert_exporter": "python",
   "pygments_lexer": "ipython3",
   "version": "3.7.6-final"
  },
  "orig_nbformat": 2,
  "kernelspec": {
   "name": "python3",
   "display_name": "Python 3"
  }
 },
 "nbformat": 4,
 "nbformat_minor": 2
}